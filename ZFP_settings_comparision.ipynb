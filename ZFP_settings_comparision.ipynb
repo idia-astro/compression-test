{
 "cells": [
  {
   "cell_type": "code",
   "execution_count": null,
   "metadata": {},
   "outputs": [],
   "source": [
    "import numpy as np\n",
    "import matplotlib.pyplot as plt\n",
    "%matplotlib inline  "
   ]
  },
  {
   "cell_type": "code",
   "execution_count": null,
   "metadata": {},
   "outputs": [],
   "source": [
    "originalArray = np.fromfile(\"./ram6G/full.arr\", 'f4')\n",
    "fullSize = 4096*4096*4\n",
    "fullSizeMpix = fullSize/4e6"
   ]
  },
  {
   "cell_type": "code",
   "execution_count": null,
   "metadata": {},
   "outputs": [],
   "source": [
    "compressionTimes_fixedRate = np.array([1.124, 1.559, 1.873, 2.090, 2.395, 2.446, 2.635, 2.757, 2.875, 2.996, 3.127, 3.135, 3.312, 3.377, 3.492, 3.487, 3.641, 3.695, 3.773, 3.773,\n",
    "                   3.907, 4.026, 4.118, 4.081, 4.226, 4.285, 4.348, 4.343, 4.424, 4.415, 4.423, 4.384])\n",
    "decompressionTimes_fixedRate = np.array([0.879, 1.294, 1.664, 1.888, 2.243, 2.479, 2.716, 2.819, 3.140, 3.330, 3.508, 3.584,\n",
    "                               3.839, 4.008, 4.161, 4.251, 4.464, 4.690, 4.810, 4.904, 5.182, 5.335, 5.511, 5.559,\n",
    "                               5.813, 5.977, 6.025, 5.962, 6.216, 6.124, 6.123, 6.082])\n",
    "compressionSpeed_fixedRate = np.divide(10*fullSizeMpix, compressionTimes_fixedRate)\n",
    "decompressionSpeed_fixedRate = np.divide(10*fullSizeMpix, decompressionTimes_fixedRate)"
   ]
  },
  {
   "cell_type": "code",
   "execution_count": null,
   "metadata": {},
   "outputs": [],
   "source": [
    "sizeZFP_fixedPrecision = np.array([2442104, 3143344, 4048824, 5169600, 6527704, 8114288, 9880112, 11789112, 13809824,\n",
    "                          15893688, 17995480, 20097288, 22196624])\n",
    "compressionTimes_fixedPrecision = np.array([1.193, 1.378, 1.572, 1.725, 1.889, 2.081, 2.243,\n",
    "                                            2.399, 2.567, 2.725, 2.864, 2.972, 3.087])\n",
    "decompressionTimes_fixedPrecision = np.array([0.938, 1.093, 1.258, 1.469, 1.689, 1.930, 2.157, 2.367,\n",
    "                                             2.619, 2.854, 3.076, 3.257, 3.437])\n",
    "compressionSpeed_fixedPrecision = np.divide(10*fullSizeMpix, compressionTimes_fixedPrecision)\n",
    "decompressionSpeed_fixedPrecision = np.divide(10*fullSizeMpix, decompressionTimes_fixedPrecision)"
   ]
  },
  {
   "cell_type": "code",
   "execution_count": null,
   "metadata": {},
   "outputs": [],
   "source": [
    "absErrSumZFP_fixedRate = []\n",
    "absErrMaxZFP_fixedRate = []\n",
    "relErrSumZFP_fixedRate = []\n",
    "relErrMaxZFP_fixedRate = []\n",
    "sizeZFP_fixedRate = []\n",
    "\n",
    "for r in range(1, 33):    \n",
    "    zfpRoundtrip = np.fromfile(\"./ram6G/full_r_{}.arr\".format(r), 'f4')\n",
    "    deltaZfp = np.abs(zfpRoundtrip - originalArray)\n",
    "    relDeltaZfp = np.abs(np.divide(zfpRoundtrip - originalArray, originalArray))\n",
    "    absErrSum = np.sum(deltaZfp)\n",
    "    absErrMax = np.max(deltaZfp)\n",
    "    #print('ZFP R={}: mean: {}, max: {}, sum: {}'.format(r, np.mean(deltaZfp), absErrMax, absErrSum))\n",
    "    absErrSumZFP_fixedRate.append(absErrSum)\n",
    "    absErrMaxZFP_fixedRate.append(absErrMax)\n",
    "    relErrSum = np.sum(relDeltaZfp)\n",
    "    relErrMax = np.max(relDeltaZfp)\n",
    "    #print('ZFP Rel R={}: mean: {}, max: {}, sum: {}'.format(r, np.mean(relDeltaZfp), relErrMax, relErrSum))\n",
    "    relErrSumZFP_fixedRate.append(relErrSum)\n",
    "    relErrMaxZFP_fixedRate.append(relErrMax)\n",
    "    sizeZFP_fixedRate.append(4096*4096*4*r/32)"
   ]
  },
  {
   "cell_type": "code",
   "execution_count": null,
   "metadata": {},
   "outputs": [],
   "source": [
    "absErrSumZFP_fixedPrecision = []\n",
    "absErrMaxZFP_fixedPrecision = []\n",
    "relErrSumZFP_fixedPrecision = []\n",
    "relErrMaxZFP_fixedPrecision = []\n",
    "\n",
    "\n",
    "for r in range(4, 17):    \n",
    "    zfpRoundtrip = np.fromfile(\"./ram6G/full_p_{}.arr\".format(r), 'f4')\n",
    "    deltaZfp = np.abs(zfpRoundtrip - originalArray)\n",
    "    relDeltaZfp = np.abs(np.divide(zfpRoundtrip - originalArray, originalArray))\n",
    "    absErrSum = np.sum(deltaZfp)\n",
    "    absErrMax = np.max(deltaZfp)\n",
    "    print('ZFP P={}: mean: {}, max: {}, sum: {}'.format(r, np.mean(deltaZfp), absErrMax, absErrSum))\n",
    "    absErrSumZFP_fixedPrecision.append(absErrSum)\n",
    "    absErrMaxZFP_fixedPrecision.append(absErrMax)\n",
    "    relErrSum = np.sum(relDeltaZfp)\n",
    "    relErrMax = np.max(relDeltaZfp)\n",
    "    print('ZFP Rel P={}: mean: {}, max: {}, sum: {}'.format(r, np.mean(relDeltaZfp), relErrMax, relErrSum))\n",
    "    relErrSumZFP_fixedPrecision.append(relErrSum)\n",
    "    relErrMaxZFP_fixedPrecision.append(relErrMax)    "
   ]
  },
  {
   "cell_type": "code",
   "execution_count": null,
   "metadata": {},
   "outputs": [],
   "source": [
    "absErrSumZFP_fixedAccuracy = []\n",
    "absErrMaxZFP_fixedAccuracy = []\n",
    "relErrSumZFP_fixedAccuracy = []\n",
    "relErrMaxZFP_fixedAccuracy = []\n",
    "sizeZFP_fixedAccuracy = np.array([1668632, 2080608, 2648608, 3421360, 5593496, 7041648, 8705272, 10532864,\n",
    "                                 12495152, 14560656, 16661976, 18765872, 20866672, 25062488, 27159720,\n",
    "                                 29256888, 31354048, 33451200, 35548360, 37645512, 39742664, 41839808,\n",
    "                                 46033784, 48130272, 50225904, 52319208, 54328896])\n",
    "\n",
    "\n",
    "accuracies = ['0.005', '0.002', '0.001', '0.0005', '0.0002', '0.0001', '0.00005',\n",
    "              '0.00002', '0.00001', '0.000005', '0.000002', '0.000001', '0.0000005', '0.0000002', '0.0000001',\n",
    "              '0.00000005', '0.00000002', '0.00000001', '0.000000005', '0.000000002',\n",
    "              '0.000000001', '0.0000000005', '0.0000000002', '0.0000000001', '0.00000000005', '0.00000000002', '0.00000000001']\n",
    "for a in accuracies:\n",
    "    zfpRoundtrip = np.fromfile(\"./ram6G/full_a_{}.arr\".format(a), 'f4')\n",
    "    deltaZfp = np.abs(zfpRoundtrip - originalArray)\n",
    "    relDeltaZfp = np.abs(np.divide(zfpRoundtrip - originalArray, originalArray))\n",
    "    absErrSum = np.sum(deltaZfp)\n",
    "    absErrMax = np.max(deltaZfp)\n",
    "    #print('ZFP R={}: mean: {}, max: {}, sum: {}'.format(r, np.mean(deltaZfp), absErrMax, absErrSum))\n",
    "    absErrSumZFP_fixedAccuracy.append(absErrSum)\n",
    "    absErrMaxZFP_fixedAccuracy.append(absErrMax)\n",
    "    relErrSum = np.sum(relDeltaZfp)\n",
    "    relErrMax = np.max(relDeltaZfp)\n",
    "    #print('ZFP Rel R={}: mean: {}, max: {}, sum: {}'.format(r, np.mean(relDeltaZfp), relErrMax, relErrSum))\n",
    "    relErrSumZFP_fixedAccuracy.append(relErrSum)\n",
    "    relErrMaxZFP_fixedAccuracy.append(relErrMax)    \n"
   ]
  },
  {
   "cell_type": "code",
   "execution_count": null,
   "metadata": {},
   "outputs": [],
   "source": [
    "compressionTimes_fixedAccuracy = np.array([1.019, 1.138, 1.280, 1.448, 1.824, 1.961, 2.152, 2.334,\n",
    "                                          2.475, 2.629, 2.803, 2.880, 3.016, 3.215, 3.289, 3.414, 3.454,\n",
    "                                          3.541, 3.624, 3.769, 3.760, 3.833, 4.015, 4.065, 4.175, 4.218, 4.269])\n",
    "\n",
    "decompressionTimes_fixedAccuracy = np.array([0.799, 0.871, 0.988, 1.126, 1.523, 1.738, 1.999, 2.246, 2.456, 2.690,\n",
    "                                             2.951, 3.104, 3.321, 3.684, 3.812, 3.974, 4.152, 4.289, 4.518, 4.642, \n",
    "                                             4.780, 4.970, 5.270, 5.361, 5.578, 5.831, 5.945])\n",
    "compressionSpeed_fixedAccuracy = np.divide(10*fullSizeMpix, compressionTimes_fixedAccuracy)\n",
    "decompressionSpeed_fixedAccuracy = np.divide(10*fullSizeMpix, decompressionTimes_fixedAccuracy)"
   ]
  },
  {
   "cell_type": "code",
   "execution_count": null,
   "metadata": {},
   "outputs": [],
   "source": [
    "len(decompressionSpeed_fixedAccuracy)"
   ]
  },
  {
   "cell_type": "code",
   "execution_count": null,
   "metadata": {},
   "outputs": [],
   "source": [
    "plt.close()\n",
    "fig, ax = plt.subplots()\n",
    "ax.plot(np.array(sizeZFP_fixedRate)*1e-6, absErrSumZFP_fixedRate, label='Fixed rate')\n",
    "ax.plot(np.array(sizeZFP_fixedPrecision)*1e-6, absErrSumZFP_fixedPrecision, label='Fixed precision')\n",
    "ax.plot(np.array(sizeZFP_fixedAccuracy)*1e-6, absErrSumZFP_fixedAccuracy, label='Fixed accuracy')\n",
    "ax.set_xlabel('Size (MB)')\n",
    "ax.set_ylabel('Absolute Error (Sum)')\n",
    "\n",
    "plt.legend()\n",
    "fig.tight_layout()\n",
    "plt.savefig('abs_err_sum.png', dpi=200)\n",
    "plt.show()"
   ]
  },
  {
   "cell_type": "code",
   "execution_count": null,
   "metadata": {},
   "outputs": [],
   "source": [
    "fig, ax = plt.subplots()\n",
    "ax.plot(np.array(sizeZFP_fixedRate)*1e-6, absErrMaxZFP_fixedRate, label='Fixed rate')\n",
    "ax.plot(np.array(sizeZFP_fixedPrecision)*1e-6, absErrMaxZFP_fixedPrecision, label='Fixed precision')\n",
    "ax.plot(np.array(sizeZFP_fixedAccuracy)*1e-6, absErrMaxZFP_fixedAccuracy, label='Fixed accuracy')\n",
    "ax.set_xlabel('Size (MB)')\n",
    "ax.set_ylabel('Absolute Error (Max)')\n",
    "ax.set_ylim(-0.001)\n",
    "plt.legend()\n",
    "fig.tight_layout()\n",
    "#plt.savefig('abs_err_max.png', dpi=200)\n",
    "plt.show()"
   ]
  },
  {
   "cell_type": "code",
   "execution_count": null,
   "metadata": {},
   "outputs": [],
   "source": [
    "fig, ax = plt.subplots()\n",
    "ax.plot(absErrSumZFP_fixedRate, compressionSpeed_fixedRate, label='Compression Speed (Fixed rate)', color='red')\n",
    "ax.plot(absErrSumZFP_fixedRate, decompressionSpeed_fixedRate, ls='--', label='Decompression Speed (Fixed rate)', color='red')\n",
    "ax.plot(absErrSumZFP_fixedPrecision, compressionSpeed_fixedPrecision, label='Compression Speed (Fixed precision)', color='blue')\n",
    "ax.plot(absErrSumZFP_fixedPrecision, decompressionSpeed_fixedPrecision, ls='--', label='Decompression Speed (Fixed precision)', color='blue')\n",
    "ax.plot(absErrSumZFP_fixedAccuracy, compressionSpeed_fixedAccuracy, label='Compression Speed (Fixed accuracy)', color='green')\n",
    "ax.plot(absErrSumZFP_fixedAccuracy, decompressionSpeed_fixedAccuracy, ls='--', label='Decompression Speed (Fixed accuracy)', color='green')\n",
    "ax.set_ylabel('Speed (Mpix/s)')\n",
    "ax.set_xlabel('Absolute Error (Sum)')\n",
    "plt.legend()\n",
    "fig.tight_layout()\n",
    "ax.set_xlim(-2, 200)\n",
    "ax.set_ylim(25, 150)\n",
    "plt.savefig('speed_abs_err_sum.png', dpi=200)\n",
    "plt.show()"
   ]
  },
  {
   "cell_type": "code",
   "execution_count": null,
   "metadata": {},
   "outputs": [],
   "source": []
  }
 ],
 "metadata": {
  "kernelspec": {
   "display_name": "Python 3",
   "language": "python",
   "name": "python3"
  },
  "language_info": {
   "codemirror_mode": {
    "name": "ipython",
    "version": 3
   },
   "file_extension": ".py",
   "mimetype": "text/x-python",
   "name": "python",
   "nbconvert_exporter": "python",
   "pygments_lexer": "ipython3",
   "version": "3.6.3"
  }
 },
 "nbformat": 4,
 "nbformat_minor": 2
}
