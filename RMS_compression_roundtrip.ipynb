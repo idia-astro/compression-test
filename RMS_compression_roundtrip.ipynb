{
 "cells": [
  {
   "cell_type": "code",
   "execution_count": null,
   "metadata": {},
   "outputs": [],
   "source": [
    "import numpy as np\n",
    "import matplotlib.pyplot as plt\n",
    "from scipy import misc"
   ]
  },
  {
   "cell_type": "code",
   "execution_count": null,
   "metadata": {},
   "outputs": [],
   "source": [
    "originalImage = misc.imread('./ram/cropped_grey.png')\n",
    "zfpImage = misc.imread('./ram/cropped_p04_grey.png')\n",
    "#jpegImage = misc.imread('./ram/cropped_grey_q095.jpg')"
   ]
  },
  {
   "cell_type": "code",
   "execution_count": null,
   "metadata": {},
   "outputs": [],
   "source": [
    "deltaImageZfp = 3*np.abs(zfpImage[:,:,0] - originalImage[:,:,0])/255\n",
    "#deltaImageJpeg = 3*np.abs(jpegImage - originalImage[:,:,0])/255"
   ]
  },
  {
   "cell_type": "code",
   "execution_count": null,
   "metadata": {},
   "outputs": [],
   "source": [
    "print('ZFP (Image): mean: {:0.3f}, max: {:0.3f}, sum: {:0.0f}'.format(np.mean(deltaImageZfp), np.max(deltaImageZfp), np.sum(deltaImageZfp)))\n",
    "#print('JPG (Image): mean: {:0.3f}, max: {:0.3f}, sum: {:0.0f}'.format(np.mean(deltaImageJpeg), np.max(deltaImageJpeg), np.sum(deltaImageJpeg)))\n",
    "#print('Ratio: {:0.3f}'.format(np.mean(deltaImageJpeg)/np.mean(deltaImageZfp)))"
   ]
  },
  {
   "cell_type": "code",
   "execution_count": null,
   "metadata": {},
   "outputs": [],
   "source": [
    "deltaImageJpeg.shape"
   ]
  },
  {
   "cell_type": "code",
   "execution_count": null,
   "metadata": {},
   "outputs": [],
   "source": [
    "np.mean(np.abs(originalImage))"
   ]
  },
  {
   "cell_type": "code",
   "execution_count": null,
   "metadata": {},
   "outputs": [],
   "source": [
    "sizeJPG = [645.1,543.7,427.3,367,323.9,286.6,207.3,112.1, 72.6]\n",
    "sizeZFP = [602.8,551.6,500.4,449.1,397.8,346.6,296.5,248.9,164.4,100.9,59.9]\n",
    "speedJPG = [23.7,26.4,30.7,33.3,35.2,37.1,41.0,59.7,65.4]\n",
    "speedDecompressJPG = [42.7,46.5,51.8,54.7,58.2,59.8,64.5,78.4,84.7]\n",
    "speedZFP = [50.0,52.0,53.5,56.3,59.7,62.3,66.4,70.5,84.3,102.7,133.0]\n",
    "speedDecompressZFP = [44.9,47.1,49.5,53.1,56.8,61.3,67.1,74.7,96.0,125.9,170.0]\n",
    "labelZFP = [17,16,15,14,13,12,11,10,8,6,4]\n",
    "labelJPG = [100,99,98,97,96,95,90,85,65]\n",
    "rmsJPG = [151724,222278,288806,316129,332359,343686,367862,415233,427182]\n",
    "rmsZFP = [1451,1987,5581,8114,21994,31492,76864,92261,170257,204945,227613]"
   ]
  },
  {
   "cell_type": "code",
   "execution_count": null,
   "metadata": {},
   "outputs": [],
   "source": [
    "encodeTimeJPG = np.divide(0.4096, speedJPG)*1000\n",
    "#assuming 50 mbit connection\n",
    "transferTimeJPG = np.divide(sizeJPG, 6.25)\n",
    "decodeTimeJPG = np.divide(0.4096, speedDecompressJPG)*1000\n",
    "totalTimeJPG = encodeTimeJPG+transferTimeJPG+decodeTimeJPG\n"
   ]
  },
  {
   "cell_type": "code",
   "execution_count": null,
   "metadata": {},
   "outputs": [],
   "source": [
    "encodeTimeZFP = np.divide(0.4096, speedZFP)*1000\n",
    "#assuming 50 mbit connection\n",
    "transferTimeZFP = np.divide(sizeZFP, 6.25)\n",
    "decodeTimeZFP = np.divide(0.4096, speedDecompressZFP)*1000\n",
    "totalTimeZFP = encodeTimeZFP+transferTimeZFP+decodeTimeZFP\n",
    "transferTimeZFP"
   ]
  },
  {
   "cell_type": "code",
   "execution_count": null,
   "metadata": {},
   "outputs": [],
   "source": [
    "\n",
    "\n",
    "fig, ax = plt.subplots()\n",
    "ax.scatter(sizeJPG, rmsJPG, label='JPEG')\n",
    "ax.scatter(sizeZFP, rmsZFP, label='ZFP')\n",
    "ax.set_xlabel('Size (kB)')\n",
    "ax.set_ylabel('RMS Sum')\n",
    "\n",
    "\n",
    "\n",
    "for i, txt in enumerate(labelZFP):\n",
    "    ax.annotate('{}'.format(txt), (sizeZFP[i]-12,rmsZFP[i]+10000))\n",
    "\n",
    "for i, txt in enumerate(labelJPG):\n",
    "    ax.annotate('{}'.format(txt), (sizeJPG[i]-12,rmsJPG[i]-25000))\n",
    "\n",
    "plt.legend()\n",
    "fig.tight_layout()\n",
    "plt.savefig('test.png', dpi=200)"
   ]
  },
  {
   "cell_type": "code",
   "execution_count": null,
   "metadata": {},
   "outputs": [],
   "source": [
    "\n",
    "\n",
    "fig, ax = plt.subplots()\n",
    "ax.scatter(rmsJPG, speedDecompressJPG, label='JPEG')\n",
    "ax.scatter(rmsZFP, speedDecompressZFP, label='ZFP')\n",
    "ax.set_xlabel('RMS Sum')\n",
    "ax.set_ylabel('Decompression Speed (Mpix/s)')\n",
    "\n",
    "\n",
    "\n",
    "# for i, txt in enumerate(labelZFP):\n",
    "#     ax.annotate('{}'.format(txt), (sizeZFP[i]-12,rmsZFP[i]+10000))\n",
    "\n",
    "# for i, txt in enumerate(labelJPG):\n",
    "#     ax.annotate('{}'.format(txt), (sizeJPG[i]-12,rmsJPG[i]-25000))\n",
    "\n",
    "plt.legend()\n",
    "fig.tight_layout()\n",
    "plt.savefig('speed_decompress.png', dpi=200)\n",
    "plt.show()"
   ]
  },
  {
   "cell_type": "code",
   "execution_count": null,
   "metadata": {},
   "outputs": [],
   "source": [
    "\n",
    "fig, ax = plt.subplots()\n",
    "ax.scatter(totalTimeJPG, rmsJPG, label='JPEG')\n",
    "ax.scatter(totalTimeZFP, rmsZFP, label='ZFP')\n",
    "ax.set_ylabel('RMS Sum')\n",
    "ax.set_xlabel('Total transfer time (ms)')\n",
    "\n",
    "\n",
    "\n",
    "# for i, txt in enumerate(labelZFP):\n",
    "#     ax.annotate('{}'.format(txt), (sizeZFP[i]-12,rmsZFP[i]+10000))\n",
    "\n",
    "# for i, txt in enumerate(labelJPG):\n",
    "#     ax.annotate('{}'.format(txt), (sizeJPG[i]-12,rmsJPG[i]-25000))\n",
    "\n",
    "plt.legend()\n",
    "fig.tight_layout()\n",
    "plt.savefig('time_total.png', dpi=200)\n",
    "plt.show()"
   ]
  },
  {
   "cell_type": "code",
   "execution_count": null,
   "metadata": {},
   "outputs": [],
   "source": [
    "sizeJPG_Grey = [202,187,163.7,151.8,140.2,130.4,100.8,85.4,61.1]\n",
    "rmsJPG_Grey = [15684,23045,50861,70572,89758,101830,132506,145851,168351]\n",
    "sizeJPG_He = [522.7,419.2,328.8,288.6,257.1,228.7,166.1,90.9,58.1]\n",
    "rmsJPG_He = [231174,297163,369144,402003,423596,441372,477875,551353,567988]\n",
    "sizeJPG_Rainbow = [894.3,801.7,674.1,594,530.8,475.4,340.3,186.6,120.6]\n",
    "rmsJPG_Rainbow = [136340,217602,294251,325468,342186,353224,373104,420423,427908]\n",
    "sizeJPG_i8 = [1274,1165,1088,1022,960.9,904.6,751.4,350.1,252.2]\n",
    "rmsJPG_i8 = [215081,250846,291709,309523,320390,327581,342307,447388,437565]\n",
    "sizeZFP_Grey = [602.8,551.6,500.4,449.1,397.8,346.6,296.5,248.9,164.4,100.9,59.9]\n",
    "rmsZFP_Grey = [631,870,2434,3556,9545,14007,37577,51627,118919,152109,172166]"
   ]
  },
  {
   "cell_type": "code",
   "execution_count": null,
   "metadata": {},
   "outputs": [],
   "source": [
    "fig, ax = plt.subplots()\n",
    "ax.plot(sizeJPG, rmsJPG, label='JPEG (Heat)', color='orange')\n",
    "ax.plot(sizeJPG_Grey, rmsJPG_Grey, label='JPEG (Grey)', color='grey')\n",
    "ax.plot(sizeJPG_He, rmsJPG_He, label='JPEG (CubeHelix)', color='green')\n",
    "ax.plot(sizeJPG_Rainbow, rmsJPG_Rainbow, label='JPEG (Rainbow)', color='purple')\n",
    "ax.plot(sizeJPG_i8, rmsJPG_i8, label='JPEG (i8)', color='red')\n",
    "ax.plot(sizeZFP, rmsZFP, label='ZFP (Heat)', ls='--', color='orange')\n",
    "ax.plot(sizeZFP_Grey, rmsZFP_Grey, label='ZFP (Grey)', ls='--', color='grey')\n",
    "ax.set_xlabel('Size (kB)')\n",
    "ax.set_ylabel('RMS Sum')\n",
    "plt.title(\"Size versus RMS Sum for various Colour maps (Q=65 to Q=100)\")\n",
    "\n",
    "\n",
    "# for i, txt in enumerate(labelJPG):\n",
    "#     ax.annotate('{}'.format(txt), (sizeJPG_Grey[i]-12,rmsJPG_Grey[i]+10000))\n",
    "\n",
    "# for i, txt in enumerate(labelJPG):\n",
    "#     ax.annotate('{}'.format(txt), (sizeJPG[i]-12,rmsJPG[i]-25000))\n",
    "\n",
    "plt.legend()\n",
    "fig.tight_layout()\n",
    "plt.savefig('colormaps.png', dpi=200)\n",
    "plt.show()"
   ]
  },
  {
   "cell_type": "code",
   "execution_count": null,
   "metadata": {},
   "outputs": [],
   "source": []
  }
 ],
 "metadata": {
  "kernelspec": {
   "display_name": "Python 3",
   "language": "python",
   "name": "python3"
  },
  "language_info": {
   "codemirror_mode": {
    "name": "ipython",
    "version": 3
   },
   "file_extension": ".py",
   "mimetype": "text/x-python",
   "name": "python",
   "nbconvert_exporter": "python",
   "pygments_lexer": "ipython3",
   "version": "3.6.3"
  }
 },
 "nbformat": 4,
 "nbformat_minor": 2
}
