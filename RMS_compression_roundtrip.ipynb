{
 "cells": [
  {
   "cell_type": "code",
   "execution_count": null,
   "metadata": {},
   "outputs": [],
   "source": [
    "import numpy as np\n",
    "import matplotlib.pyplot as plt\n",
    "from scipy import misc"
   ]
  },
  {
   "cell_type": "code",
   "execution_count": null,
   "metadata": {},
   "outputs": [],
   "source": [
    "originalArray = np.fromfile(\"./ram/DEEP_2_I_slice0.arr\", 'f4')\n",
    "zfpRoundtrip = np.fromfile(\"./ram/DEEP_2_I_slice0.arr.zfp.roundtrip\", 'f4')\n",
    "szRoundtrip = np.fromfile(\"./ram/DEEP_2_I_slice0.arr.sz.out\", 'f4')\n",
    "fzRoundtrip = np.fromfile(\"./ram/DEEP_2_I_slice0.arr.fz.roundtrip\", 'f4')"
   ]
  },
  {
   "cell_type": "code",
   "execution_count": null,
   "metadata": {},
   "outputs": [],
   "source": [
    "deltaZfp = np.abs(zfpRoundtrip - originalArray)\n",
    "deltaSz = np.abs(szRoundtrip - originalArray)\n",
    "deltaFz = np.abs(fzRoundtrip - originalArray)"
   ]
  },
  {
   "cell_type": "code",
   "execution_count": null,
   "metadata": {},
   "outputs": [],
   "source": [
    "print('ZFP: mean: {}, max: {}, sum: {}'.format(np.mean(deltaZfp), np.max(deltaZfp), np.sum(deltaZfp)))\n",
    "print('SZ: mean: {}, max: {}, sum: {}'.format(np.mean(deltaSz), np.max(deltaSz), np.sum(deltaSz)))\n",
    "print('RICE: mean: {}, max: {}, sum: {}'.format(np.mean(deltaFz), np.max(deltaFz), np.sum(deltaFz)))"
   ]
  },
  {
   "cell_type": "code",
   "execution_count": null,
   "metadata": {},
   "outputs": [],
   "source": [
    "#deltaZfp.tofile('./ram/delta_zfp.arr')\n",
    "#deltaSz.tofile('./ram/delta_sz.arr')"
   ]
  },
  {
   "cell_type": "code",
   "execution_count": null,
   "metadata": {},
   "outputs": [],
   "source": [
    "originalArray[:16]"
   ]
  },
  {
   "cell_type": "code",
   "execution_count": null,
   "metadata": {},
   "outputs": [],
   "source": [
    "originalImage = misc.imread('./ram/ds9.ppm')\n",
    "zfpImage = misc.imread('./ram/ds9_zfp.ppm')\n",
    "jpegImage = misc.imread('./ram/ds9_conv.jpg')"
   ]
  },
  {
   "cell_type": "code",
   "execution_count": null,
   "metadata": {},
   "outputs": [],
   "source": [
    "deltaImageZfp = np.abs(zfpImage - originalImage)/np.mean(np.abs(originalImage))*np.mean(np.abs(originalArray))/255\n",
    "deltaImageJpeg = np.abs(jpegImage - originalImage)/np.mean(np.abs(originalImage))*np.mean(np.abs(originalArray))/255"
   ]
  },
  {
   "cell_type": "code",
   "execution_count": null,
   "metadata": {},
   "outputs": [],
   "source": [
    "print('ZFP (Image): mean: {}, max: {}, sum: {}'.format(np.mean(deltaImageZfp), np.max(deltaImageZfp), np.sum(deltaImageZfp)))\n",
    "print('JPEG (Image): mean: {}, max: {}, sum: {}'.format(np.mean(deltaImageJpeg), np.max(deltaImageJpeg), np.sum(deltaImageJpeg)))"
   ]
  },
  {
   "cell_type": "code",
   "execution_count": null,
   "metadata": {},
   "outputs": [],
   "source": [
    "np.mean(np.abs(originalImage))"
   ]
  },
  {
   "cell_type": "code",
   "execution_count": null,
   "metadata": {},
   "outputs": [],
   "source": []
  }
 ],
 "metadata": {
  "kernelspec": {
   "display_name": "Python 3",
   "language": "python",
   "name": "python3"
  },
  "language_info": {
   "codemirror_mode": {
    "name": "ipython",
    "version": 3
   },
   "file_extension": ".py",
   "mimetype": "text/x-python",
   "name": "python",
   "nbconvert_exporter": "python",
   "pygments_lexer": "ipython3",
   "version": "3.6.3"
  }
 },
 "nbformat": 4,
 "nbformat_minor": 2
}
