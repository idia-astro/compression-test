{
 "cells": [
  {
   "cell_type": "code",
   "execution_count": null,
   "metadata": {},
   "outputs": [],
   "source": [
    "import numpy as np\n",
    "import matplotlib.pyplot as plt\n",
    "import os\n",
    "\n",
    "from compression import Region, Comparator\n",
    "\n",
    "%matplotlib notebook"
   ]
  },
  {
   "cell_type": "code",
   "execution_count": null,
   "metadata": {},
   "outputs": [],
   "source": [
    "# Adjust to point to the location of the image files and executables\n",
    "\n",
    "DATA_DIR = os.path.join(os.path.expanduser(\"~\"), \"data\", \"fits\")\n",
    "ZFP = \"zfp\"\n",
    "SZ = \"sz\"\n",
    "BPGENC = \"bpgenc\"\n",
    "BPGDEC = \"bpgdec\"\n",
    "\n",
    "# DATA_DIR = os.path.join(os.sep, \"data\", \"users\", os.environ[\"USER\"])\n",
    "# ZFP = os.path.join(os.path.expanduser(\"~\"), \"bin\", \"zfp\")\n",
    "# SZ = os.path.join(os.path.expanduser(\"~\"), \"bin\", \"sz\")\n",
    "\n",
    "TEMP_DIR = DATA_DIR"
   ]
  },
  {
   "cell_type": "code",
   "execution_count": null,
   "metadata": {},
   "outputs": [],
   "source": [
    "# These files don't have to exist, as no attempt is made to access them in this cell.\n",
    "# For the sake of readability, the data directory path is prepended to all the filenames at the end. \n",
    "\n",
    "regions = {\n",
    "    \"GALFACTS N4 Q full\": {\n",
    "        \"filename\": \"GALFACTS_N4_cube_Q_DQA3.3.1.fits\"\n",
    "    },\n",
    "\n",
    "    \"GALFACTS N4 Q 512x512\": {\n",
    "        \"filename\": \"GALFACTS_N4_cube_Q_DQA3.3.1.fits\", \n",
    "        \"size\": (512, 512),\n",
    "        \"centre\": (768, 4600)\n",
    "    },\n",
    "\n",
    "    \"GALFACTS N4 I full\": {\n",
    "        \"filename\": \"GALFACTS_N4_cube_I_DQA3.3.1.fits\"\n",
    "    },\n",
    "\n",
    "    \"GALFACTS N4 I 512x512\": {\n",
    "        \"filename\": \"GALFACTS_N4_cube_I_DQA3.3.1.fits\", \n",
    "        \"size\": (512, 512),\n",
    "        \"centre\": (768, 4600)\n",
    "    },\n",
    "    \n",
    "    \"GALFACTS average I full\": {\n",
    "        \"filename\": \"GALFACTS_S3_average_image_I.fits\"\n",
    "    },\n",
    "    \n",
    "    \"GALFACTS average I 512x512\": {\n",
    "        \"filename\": \"GALFACTS_S3_average_image_I.fits\", \n",
    "        \"size\": (512, 512),\n",
    "        \"centre\": (768, 4600)\n",
    "    },\n",
    "\n",
    "    \"DEEP full\": {\n",
    "        \"filename\": \"DEEP_5_IQU_cube.fits\",\n",
    "        \"stokes\": 0,\n",
    "        \"channel\": 3\n",
    "    },\n",
    "\n",
    "    \"DEEP 512x512\": {\n",
    "        \"filename\": \"DEEP_5_IQU_cube.fits\",\n",
    "        \"stokes\": 0,\n",
    "        \"channel\": 3,\n",
    "        \"size\": (512, 512),\n",
    "        \"centre\": (2048, 2048)\n",
    "    },\n",
    "\n",
    "    \"supermosaic full\": {\n",
    "        \"filename\": \"supermosaic.10.fits\"\n",
    "    },\n",
    "\n",
    "    \"supermosaic 512x512\": {\n",
    "        \"filename\": \"supermosaic.10.fits\",\n",
    "        \"size\": (512, 512),\n",
    "        \"centre\": (900, 2000)\n",
    "    },\n",
    "    \n",
    "    \"DEEP cropped\": {\n",
    "        \"filename\": \"cropped_512_512_10_3_DEEP_5_IQU.fits\",\n",
    "        \"stokes\": 0,\n",
    "        \"channel\": 3\n",
    "    },\n",
    "    \n",
    "    \"m81\": {\n",
    "        \"filename\": \"m81.fits\"\n",
    "    },\n",
    "}\n",
    "\n",
    "for name, region in regions.items():\n",
    "    region[\"filename\"] = os.path.join(DATA_DIR, region[\"filename\"])"
   ]
  },
  {
   "cell_type": "code",
   "execution_count": null,
   "metadata": {},
   "outputs": [],
   "source": [
    "# Load the specified region from the image file\n",
    "region = Region.from_fits(**regions[\"GALFACTS average I 512x512\"])"
   ]
  },
  {
   "cell_type": "code",
   "execution_count": null,
   "metadata": {},
   "outputs": [],
   "source": [
    "# This may take a long time for large images. All possible error values are calculated and cached.\n",
    "\n",
    "comparator = Comparator.compare_algorithms(\n",
    "    region,\n",
    "    colourmap=plt.cm.viridis,\n",
    "    logarithmic=False, # change to True to make the colourmap logarithmic\n",
    "    zfp=ZFP,\n",
    "    sz=SZ,\n",
    "    bpgenc=BPGENC,\n",
    "    bpgdec=BPGDEC,\n",
    "    temp_dir=TEMP_DIR,\n",
    "    nan_interpolation_method=None, # \"linear\", \"cubic\" or None\n",
    "    bpg_quant_step=4 # step size for BPG quantizer\n",
    ")"
   ]
  },
  {
   "cell_type": "code",
   "execution_count": null,
   "metadata": {},
   "outputs": [],
   "source": [
    "# This plots various types of errors.\n",
    "# Cached values are used, so changing plot parameters should be fast.\n",
    "\n",
    "comparator.widget_plots();"
   ]
  },
  {
   "cell_type": "code",
   "execution_count": null,
   "metadata": {},
   "outputs": [],
   "source": [
    "#comparator2 = Comparator.compare_algorithms(\n",
    "#    region,\n",
    "#    colourmap=plt.cm.viridis,\n",
    "#    logarithmic=False, # change to True to make the colourmap logarithmic\n",
    "#    zfp=ZFP,\n",
    "#    sz=SZ,\n",
    "#    temp_dir=TEMP_DIR,\n",
    "#    nan_interpolation_method=\"cubic\" # \"linear\", \"cubic\" or None\n",
    "#)\n",
    "#comparator2.widget_plots();"
   ]
  },
  {
   "cell_type": "code",
   "execution_count": null,
   "metadata": {},
   "outputs": [],
   "source": [
    "# This shows images of a similar compression size compressed with various algorithms.\n",
    "# Compressed images are not stored, so they must be recalculated.\n",
    "\n",
    "# The exact image is shown in the centre of the top row.\n",
    "# A blank subplot indicates that this algorithm produced no images below the selected compressed size limit.\n",
    "\n",
    "comparator.widget_images();"
   ]
  },
  {
   "cell_type": "code",
   "execution_count": null,
   "metadata": {},
   "outputs": [],
   "source": []
  }
 ],
 "metadata": {
  "kernelspec": {
   "display_name": "Python 3",
   "language": "python",
   "name": "python3"
  },
  "language_info": {
   "codemirror_mode": {
    "name": "ipython",
    "version": 3
   },
   "file_extension": ".py",
   "mimetype": "text/x-python",
   "name": "python",
   "nbconvert_exporter": "python",
   "pygments_lexer": "ipython3",
   "version": "3.6.7"
  }
 },
 "nbformat": 4,
 "nbformat_minor": 2
}
