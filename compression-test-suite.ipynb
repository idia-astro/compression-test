{
 "cells": [
  {
   "cell_type": "code",
   "execution_count": null,
   "metadata": {},
   "outputs": [],
   "source": [
    "import numpy as np\n",
    "import matplotlib.pyplot as plt\n",
    "import os\n",
    "\n",
    "from compression import Region, Comparator\n",
    "from ipywidgets import interact, FloatSlider\n",
    "\n",
    "# TODO remove unused imports which are only needed in the library file\n",
    "\n",
    "%matplotlib notebook"
   ]
  },
  {
   "cell_type": "code",
   "execution_count": null,
   "metadata": {},
   "outputs": [],
   "source": [
    "# TODO set up stuff like a custom data directory and temp directory here\n",
    "# pass them into the functions\n",
    "\n",
    "DATA_DIR = os.path.join(os.path.expanduser(\"~\"), \"data\", \"fits\")\n",
    "colourmap = plt.cm.viridis\n"
   ]
  },
  {
   "cell_type": "code",
   "execution_count": null,
   "metadata": {},
   "outputs": [],
   "source": [
    "regions = {\n",
    "#     \"GALFACTS N4 Q full\": Region.from_fits(\n",
    "#         os.path.join(DATA_DIR, \"GALFACTS_N4_cube_Q_DQA3.3.1.fits\")\n",
    "#     ),\n",
    "\n",
    "#     \"GALFACTS N4 Q 512x512\": Region.from_fits(\n",
    "#         os.path.join(DATA_DIR, \"GALFACTS_N4_cube_Q_DQA3.3.1.fits\"), \n",
    "#         size=(512, 512),\n",
    "#         centre=(768, 4600)\n",
    "#     ),\n",
    "\n",
    "#     \"GALFACTS N4 I full\": Region.from_fits(\n",
    "#         os.path.join(DATA_DIR, \"GALFACTS_N4_cube_I_DQA3.3.1.fits\")\n",
    "#     ),\n",
    "\n",
    "#     \"GALFACTS N4 I 512x512\": Region.from_fits(\n",
    "#         os.path.join(DATA_DIR, \"GALFACTS_N4_cube_I_DQA3.3.1.fits\"), \n",
    "#         size=(512, 512),\n",
    "#         centre=(768, 4600)\n",
    "#     ),\n",
    "\n",
    "#     \"DEEP full\": Region.from_fits(\n",
    "#         os.path.join(DATA_DIR, \"DEEP_5_IQU_cube.fits\")\n",
    "#     ),\n",
    "\n",
    "#     \"DEEP 512x512\": Region.from_fits(\n",
    "#         os.path.join(DATA_DIR, \"DEEP_5_IQU_cube.fits\"),\n",
    "#         size=(512, 512),\n",
    "#         centre=(2048, 2048)\n",
    "#     ),\n",
    "\n",
    "#     \"supermosaic full\": Region.from_fits(\n",
    "#         os.path.join(DATA_DIR, \"supermosaic.10.fits\")\n",
    "#     ),\n",
    "\n",
    "#     \"supermosaic 512x512\": Region.from_fits(\n",
    "#         os.path.join(DATA_DIR, \"supermosaic.10.fits\"),\n",
    "#         size=(512, 512),\n",
    "#         centre=(900, 2000)\n",
    "#     ),\n",
    "    \n",
    "#     \"DEEP cropped\": Region.from_fits(\n",
    "#         os.path.join(DATA_DIR, \"cropped_512_512_10_3_DEEP_5_IQU.fits\"),\n",
    "#         stokes=0,\n",
    "#         channel=3\n",
    "#     ),\n",
    "    \n",
    "    \"m81\": Region.from_fits(\n",
    "        os.path.join(DATA_DIR, \"m81.fits\")\n",
    "    ),\n",
    "}"
   ]
  },
  {
   "cell_type": "code",
   "execution_count": null,
   "metadata": {},
   "outputs": [],
   "source": [
    "# comparator = Comparator.compare_algorithms(regions[\"DEEP cropped\"], colourmap)\n",
    "comparator = Comparator.compare_algorithms(regions[\"m81\"], colourmap)"
   ]
  },
  {
   "cell_type": "code",
   "execution_count": null,
   "metadata": {},
   "outputs": [],
   "source": [
    "comparator.show_plots(datasets=[\"image\"])\n"
   ]
  },
  {
   "cell_type": "code",
   "execution_count": null,
   "metadata": {},
   "outputs": [],
   "source": [
    "interact(comparator.show_images, size=FloatSlider(value=0.5, min=0, max=1, step=0.01, continuous_update=False));"
   ]
  },
  {
   "cell_type": "code",
   "execution_count": null,
   "metadata": {},
   "outputs": [],
   "source": []
  },
  {
   "cell_type": "code",
   "execution_count": null,
   "metadata": {},
   "outputs": [],
   "source": []
  }
 ],
 "metadata": {
  "kernelspec": {
   "display_name": "Python 3",
   "language": "python",
   "name": "python3"
  },
  "language_info": {
   "codemirror_mode": {
    "name": "ipython",
    "version": 3
   },
   "file_extension": ".py",
   "mimetype": "text/x-python",
   "name": "python",
   "nbconvert_exporter": "python",
   "pygments_lexer": "ipython3",
   "version": "3.6.3"
  }
 },
 "nbformat": 4,
 "nbformat_minor": 2
}
