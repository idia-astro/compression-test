{
 "cells": [
  {
   "cell_type": "code",
   "execution_count": null,
   "metadata": {},
   "outputs": [],
   "source": [
    "import numpy as np\n",
    "import matplotlib.pyplot as plt\n",
    "from astropy.io import fits\n",
    "import h5py\n",
    "from PIL import Image\n",
    "import os\n",
    "import re\n",
    "from compression import Region, compare_algorithms\n",
    "\n",
    "%matplotlib notebook"
   ]
  },
  {
   "cell_type": "code",
   "execution_count": null,
   "metadata": {},
   "outputs": [],
   "source": [
    "DATA_DIR = \"~/data\"\n",
    "\n",
    "regions = {}"
   ]
  },
  {
   "cell_type": "code",
   "execution_count": null,
   "metadata": {},
   "outputs": [],
   "source": [
    "# GALFACTS N4 field (Q) without NaNs\n",
    "#originalFile = \"./Downloads/n4_Q_no_nans.arr\"\n",
    "#originalArray = np.fromfile(originalFile, 'f4')\n",
    "#sliceHeight = 1074\n",
    "#sliceWidth = 5850\n",
    "#fullSize = sliceHeight*sliceWidth*4\n",
    "#fullSizeMpix = fullSize/4e6\n",
    "\n",
    "regions[\"GALFACTS N4 Q full\"] = Region.from_fits(os.path.join(DATA_DIR, \"GALFACTS_N4_cube_Q_DQA3.3.1.fits\"))"
   ]
  },
  {
   "cell_type": "code",
   "execution_count": null,
   "metadata": {},
   "outputs": [],
   "source": [
    "# GALFACTS N4 field (Q) without NaNs (512x512 slice)\n",
    "#originalFile = \"./Downloads/n4_Q_no_nans.arr\"\n",
    "#originalArray = np.fromfile(originalFile, 'f4')\n",
    "#originalArray = originalArray.reshape([-1, 5850])[768-256:768+256, 4600-256:4600+256].flatten()\n",
    "#sliceHeight = 512\n",
    "#sliceWidth = 512\n",
    "#fullSize = sliceHeight*sliceWidth*4\n",
    "#fullSizeMpix = fullSize/4e6\n",
    "#scaleLow = -0.158637\n",
    "#scaleHigh = 0.120516\n",
    "\n",
    "regions[\"GALFACTS N4 Q 512x512\"] = Region.from_fits(\n",
    "    os.path.join(DATA_DIR, \"GALFACTS_N4_cube_Q_DQA3.3.1.fits\"), \n",
    "    size=(512, 512),\n",
    "    centre=(768, 4600)\n",
    ")"
   ]
  },
  {
   "cell_type": "code",
   "execution_count": null,
   "metadata": {},
   "outputs": [],
   "source": [
    "# GALFACTS N4 field (I) without NaNs\n",
    "#originalFile = \"./Downloads/n4_no_nans.arr\"\n",
    "#originalArray = np.fromfile(originalFile, 'f4')\n",
    "#sliceHeight = 1074\n",
    "#sliceWidth = 5850\n",
    "#fullSize = sliceHeight*sliceWidth*4\n",
    "#fullSizeMpix = fullSize/4e6\n",
    "#scaleLow = 3.36162\n",
    "#scaleHigh = 8.11825\n",
    "\n",
    "regions[\"GALFACTS N4 I full\"] = Region.from_fits(os.path.join(DATA_DIR, \"GALFACTS_N4_cube_I_DQA3.3.1.fits\"))"
   ]
  },
  {
   "cell_type": "code",
   "execution_count": null,
   "metadata": {},
   "outputs": [],
   "source": [
    "# GALFACTS N4 field (I) without NaNs (512x512 slice)\n",
    "#originalFile = \"./Downloads/n4_no_nans.arr\"\n",
    "#originalArray = np.fromfile(originalFile, 'f4')\n",
    "#originalArray = originalArray.reshape([-1, 5850])[768-256:768+256, 4600-256:4600+256].flatten()\n",
    "#sliceHeight = 512\n",
    "#sliceWidth = 512\n",
    "#fullSize = sliceHeight*sliceWidth*4\n",
    "#fullSizeMpix = fullSize/4e6\n",
    "#scaleLow = 3.36162\n",
    "#scaleHigh = 8.11825\n",
    "\n",
    "regions[\"GALFACTS N4 Q 512x512\"] = Region.from_fits(\n",
    "    os.path.join(DATA_DIR, \"GALFACTS_N4_cube_Q_DQA3.3.1.fits\"), \n",
    "    size=(512, 512),\n",
    "    centre=(768, 4600)\n",
    ")"
   ]
  },
  {
   "cell_type": "code",
   "execution_count": null,
   "metadata": {},
   "outputs": [],
   "source": [
    "# full 67MB DEEP slice\n",
    "#originalFile = \"./Downloads/full.arr\"\n",
    "#originalArray = np.fromfile(originalFile, 'f4')\n",
    "#sliceHeight = 4096\n",
    "#sliceWidth = 4096\n",
    "#fullSize = sliceHeight*sliceWidth*4\n",
    "#fullSizeMpix = fullSize/4e6\n",
    "#scaleLow = -0.000556335\n",
    "#scaleHigh = 0.000620103\n",
    "\n",
    "regions[\"DEEP full\"] = Region.from_fits(os.path.join(DATA_DIR, \"???.fits\"))"
   ]
  },
  {
   "cell_type": "code",
   "execution_count": null,
   "metadata": {},
   "outputs": [],
   "source": [
    "# centre 512x512 slice subest\n",
    "#originalFile = \"./Downloads/full.arr\"\n",
    "#originalArray = np.fromfile(originalFile, 'f4')\n",
    "#originalArray = originalArray.reshape([-1, 4096])[2048-256:2048+256, 2048-256:2048+256].flatten()\n",
    "#sliceHeight = 512\n",
    "#sliceWidth = 512\n",
    "#fullSize = sliceHeight*sliceWidth*4\n",
    "#fullSizeMpix = fullSize/4e6\n",
    "#scaleLow = -0.000556335\n",
    "#scaleHigh = 0.000620103\n",
    "\n",
    "regions[\"DEEP 512x512\"] = Region.from_fits(\n",
    "    os.path.join(DATA_DIR, \"???.fits\"),\n",
    "    size=(512, 512),\n",
    "    centre=(2048, 2048)\n",
    ")"
   ]
  },
  {
   "cell_type": "code",
   "execution_count": null,
   "metadata": {},
   "outputs": [],
   "source": [
    "# supermosaic subset without NaNs\n",
    "#originalFile = \"./Downloads/supermosaic.arr\"\n",
    "#originalArray = np.fromfile(originalFile, 'f4')\n",
    "#originalArray = originalArray.reshape([-1, 4224])[100:-100, :].flatten()\n",
    "#sliceHeight = 1624\n",
    "#sliceWidth = 4224\n",
    "#fullSize = sliceHeight*sliceWidth*4\n",
    "#fullSizeMpix = fullSize/4e6\n",
    "#scaleLow = -19.0277\n",
    "#scaleHigh = 66.8458\n",
    "\n",
    "regions[\"supermosaic full\"] = Region.from_fits(os.path.join(DATA_DIR, \"supermosaic.10.fits\"))"
   ]
  },
  {
   "cell_type": "code",
   "execution_count": null,
   "metadata": {},
   "outputs": [],
   "source": [
    "# supermosaic 512x512 slice subest\n",
    "#originalFile = \"./Downloads/supermosaic.arr\"\n",
    "#originalArray = np.fromfile(originalFile, 'f4')\n",
    "#originalArray = originalArray.reshape([-1, 4224])[900-256:900+256, 2000-256:2000+256].flatten()\n",
    "#sliceHeight = 512\n",
    "#sliceWidth = 512\n",
    "#fullSize = sliceHeight*sliceWidth*4\n",
    "#fullSizeMpix = fullSize/4e6\n",
    "#scaleLow = -19.0277\n",
    "#scaleHigh = 66.8458\n",
    "\n",
    "regions[\"supermosaic full\"] = Region.from_fits(\n",
    "    os.path.join(DATA_DIR, \"supermosaic.10.fits\"),\n",
    "    size=(512, 512),\n",
    "    centre=(900, 2000)\n",
    ")"
   ]
  },
  {
   "cell_type": "code",
   "execution_count": null,
   "metadata": {},
   "outputs": [],
   "source": []
  }
 ],
 "metadata": {
  "kernelspec": {
   "display_name": "Python 3",
   "language": "python",
   "name": "python3"
  },
  "language_info": {
   "codemirror_mode": {
    "name": "ipython",
    "version": 3
   },
   "file_extension": ".py",
   "mimetype": "text/x-python",
   "name": "python",
   "nbconvert_exporter": "python",
   "pygments_lexer": "ipython3",
   "version": "3.6.3"
  }
 },
 "nbformat": 4,
 "nbformat_minor": 2
}
