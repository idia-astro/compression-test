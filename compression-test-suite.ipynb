{
 "cells": [
  {
   "cell_type": "code",
   "execution_count": null,
   "metadata": {},
   "outputs": [],
   "source": [
    "import numpy as np\n",
    "import matplotlib.pyplot as plt\n",
    "import os\n",
    "\n",
    "from compression import Region, Comparator\n",
    "# from ipywidgets import interact, FloatSlider, IntSlider, SelectMultiple\n",
    "\n",
    "# TODO remove unused imports which are only needed in the library file\n",
    "\n",
    "%matplotlib notebook"
   ]
  },
  {
   "cell_type": "code",
   "execution_count": null,
   "metadata": {},
   "outputs": [],
   "source": [
    "# Some constants\n",
    "\n",
    "DATA_DIR = os.path.join(os.path.expanduser(\"~\"), \"data\", \"fits\")\n",
    "colourmap = plt.cm.viridis\n"
   ]
  },
  {
   "cell_type": "code",
   "execution_count": null,
   "metadata": {},
   "outputs": [],
   "source": [
    "regions = {\n",
    "    \"GALFACTS N4 Q full\": {\n",
    "        \"filename\": \"GALFACTS_N4_cube_Q_DQA3.3.1.fits\"\n",
    "    },\n",
    "\n",
    "    \"GALFACTS N4 Q 512x512\": {\n",
    "        \"filename\": \"GALFACTS_N4_cube_Q_DQA3.3.1.fits\", \n",
    "        \"size\": (512, 512),\n",
    "        \"centre\": (768, 4600)\n",
    "    },\n",
    "\n",
    "    \"GALFACTS N4 I full\": {\n",
    "        \"filename\": \"GALFACTS_N4_cube_I_DQA3.3.1.fits\"\n",
    "    },\n",
    "\n",
    "    \"GALFACTS N4 I 512x512\": {\n",
    "        \"filename\": \"GALFACTS_N4_cube_I_DQA3.3.1.fits\", \n",
    "        \"size\": (512, 512),\n",
    "        \"centre\": (768, 4600)\n",
    "    },\n",
    "\n",
    "    \"DEEP full\": {\n",
    "        \"filename\": \"DEEP_5_IQU_cube.fits\"\n",
    "    },\n",
    "\n",
    "    \"DEEP 512x512\": {\n",
    "        \"filename\": \"DEEP_5_IQU_cube.fits\",\n",
    "        \"size\": (512, 512),\n",
    "        \"centre\": (2048, 2048)\n",
    "    },\n",
    "\n",
    "    \"supermosaic full\": {\n",
    "        \"filename\": \"supermosaic.10.fits\"\n",
    "    },\n",
    "\n",
    "    \"supermosaic 512x512\": {\n",
    "        \"filename\": \"supermosaic.10.fits\",\n",
    "        \"size\": (512, 512),\n",
    "        \"centre\": (900, 2000)\n",
    "    },\n",
    "    \n",
    "    \"DEEP cropped\": {\n",
    "        \"filename\": \"cropped_512_512_10_3_DEEP_5_IQU.fits\",\n",
    "        \"stokes\": 0,\n",
    "        \"channel\": 3\n",
    "    },\n",
    "    \n",
    "    \"m81\": {\n",
    "        \"filename\": \"m81.fits\"\n",
    "    },\n",
    "}\n",
    "\n",
    "for name, region in regions.items():\n",
    "    region[\"filename\"] = os.path.join(DATA_DIR, region[\"filename\"])"
   ]
  },
  {
   "cell_type": "code",
   "execution_count": null,
   "metadata": {},
   "outputs": [],
   "source": [
    "region = Region.from_fits(**regions[\"m81\"])\n",
    "comparator = Comparator.compare_algorithms(region, colourmap)"
   ]
  },
  {
   "cell_type": "code",
   "execution_count": null,
   "metadata": {},
   "outputs": [],
   "source": [
    "comparator.widget_plots();"
   ]
  },
  {
   "cell_type": "code",
   "execution_count": null,
   "metadata": {},
   "outputs": [],
   "source": [
    "comparator.widget_images();"
   ]
  },
  {
   "cell_type": "code",
   "execution_count": null,
   "metadata": {},
   "outputs": [],
   "source": []
  },
  {
   "cell_type": "code",
   "execution_count": null,
   "metadata": {},
   "outputs": [],
   "source": []
  }
 ],
 "metadata": {
  "kernelspec": {
   "display_name": "Python 3",
   "language": "python",
   "name": "python3"
  },
  "language_info": {
   "codemirror_mode": {
    "name": "ipython",
    "version": 3
   },
   "file_extension": ".py",
   "mimetype": "text/x-python",
   "name": "python",
   "nbconvert_exporter": "python",
   "pygments_lexer": "ipython3",
   "version": "3.6.3"
  }
 },
 "nbformat": 4,
 "nbformat_minor": 2
}
