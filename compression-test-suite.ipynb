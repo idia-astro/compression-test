{
 "cells": [
  {
   "cell_type": "code",
   "execution_count": null,
   "metadata": {},
   "outputs": [],
   "source": [
    "import numpy as np\n",
    "import matplotlib.pyplot as plt\n",
    "# from astropy.io import fits\n",
    "# import h5py\n",
    "# from PIL import Image\n",
    "import os\n",
    "# import re\n",
    "from compression import Region, compare_algorithms\n",
    "\n",
    "# TODO remove unused imports which are only needed in the library file\n",
    "\n",
    "%matplotlib notebook"
   ]
  },
  {
   "cell_type": "code",
   "execution_count": null,
   "metadata": {},
   "outputs": [],
   "source": [
    "# TODO set up stuff like a custom data directory and temp directory here\n",
    "# pass them into the functions\n",
    "\n",
    "DATA_DIR = os.path.join(os.path.expanduser(\"~\"), \"data\", \"fits\")\n",
    "colourmap = plt.cm.viridis\n"
   ]
  },
  {
   "cell_type": "code",
   "execution_count": null,
   "metadata": {},
   "outputs": [],
   "source": [
    "regions = {\n",
    "#     \"GALFACTS N4 Q full\": Region.from_fits(\n",
    "#         os.path.join(DATA_DIR, \"GALFACTS_N4_cube_Q_DQA3.3.1.fits\")\n",
    "#     ),\n",
    "\n",
    "#     \"GALFACTS N4 Q 512x512\": Region.from_fits(\n",
    "#         os.path.join(DATA_DIR, \"GALFACTS_N4_cube_Q_DQA3.3.1.fits\"), \n",
    "#         size=(512, 512),\n",
    "#         centre=(768, 4600)\n",
    "#     ),\n",
    "\n",
    "#     \"GALFACTS N4 I full\": Region.from_fits(\n",
    "#         os.path.join(DATA_DIR, \"GALFACTS_N4_cube_I_DQA3.3.1.fits\")\n",
    "#     ),\n",
    "\n",
    "#     \"GALFACTS N4 I 512x512\": Region.from_fits(\n",
    "#         os.path.join(DATA_DIR, \"GALFACTS_N4_cube_I_DQA3.3.1.fits\"), \n",
    "#         size=(512, 512),\n",
    "#         centre=(768, 4600)\n",
    "#     ),\n",
    "\n",
    "#     \"DEEP full\": Region.from_fits(\n",
    "#         os.path.join(DATA_DIR, \"DEEP_5_IQU_cube.fits\")\n",
    "#     ),\n",
    "\n",
    "#     \"DEEP 512x512\": Region.from_fits(\n",
    "#         os.path.join(DATA_DIR, \"DEEP_5_IQU_cube.fits\"),\n",
    "#         size=(512, 512),\n",
    "#         centre=(2048, 2048)\n",
    "#     ),\n",
    "\n",
    "#     \"supermosaic full\": Region.from_fits(\n",
    "#         os.path.join(DATA_DIR, \"supermosaic.10.fits\")\n",
    "#     ),\n",
    "\n",
    "#     \"supermosaic 512x512\": Region.from_fits(\n",
    "#         os.path.join(DATA_DIR, \"supermosaic.10.fits\"),\n",
    "#         size=(512, 512),\n",
    "#         centre=(900, 2000)\n",
    "#     ),\n",
    "    \n",
    "    \"DEEP cropped\": Region.from_fits(\n",
    "        os.path.join(DATA_DIR, \"cropped_512_512_10_3_DEEP_5_IQU.fits\")\n",
    "    ),\n",
    "}"
   ]
  },
  {
   "cell_type": "code",
   "execution_count": null,
   "metadata": {},
   "outputs": [],
   "source": [
    "# TODO what should this return?\n",
    "\n",
    "results = compare_algorithms(regions[\"DEEP cropped\"], colourmap)\n"
   ]
  }
 ],
 "metadata": {
  "kernelspec": {
   "display_name": "Python 3",
   "language": "python",
   "name": "python3"
  },
  "language_info": {
   "codemirror_mode": {
    "name": "ipython",
    "version": 3
   },
   "file_extension": ".py",
   "mimetype": "text/x-python",
   "name": "python",
   "nbconvert_exporter": "python",
   "pygments_lexer": "ipython3",
   "version": "3.6.3"
  }
 },
 "nbformat": 4,
 "nbformat_minor": 2
}
