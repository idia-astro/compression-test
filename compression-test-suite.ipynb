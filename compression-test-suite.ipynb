{
 "cells": [
  {
   "cell_type": "code",
   "execution_count": null,
   "metadata": {},
   "outputs": [],
   "source": [
    "import numpy as np\n",
    "import matplotlib.pyplot as plt\n",
    "from astropy.io import fits\n",
    "from PIL import Image\n",
    "import os\n",
    "import re\n",
    "%matplotlib notebook  \n",
    "%cd \"~\""
   ]
  },
  {
   "cell_type": "code",
   "execution_count": null,
   "metadata": {},
   "outputs": [],
   "source": [
    "ZFP_EXEC = \"./repos/zfp/build/bin/zfp\"\n",
    "SZ_EXEC = \"sz\"\n",
    "TMP_DIR = \"/dev/shm\"\n",
    "def zfpCompress(inputArray, width, height, compressOpts):\n",
    "    np.nan_to_num(inputArray).tofile(\"./tmpOrig.arr\")\n",
    "    output = !$ZFP_EXEC -i \"./tmpOrig.arr\" -2 $width $height -f $compressOpts -z - | $ZFP_EXEC -z - -2 $width $height -f $compressOpts -o \"./tmpRoundtrip.arr\"\n",
    "    m = re.search(\"zfp=(\\d+)\", output[0])\n",
    "    compressedSize = int(m.group(0).replace(\"zfp=\", \"\"))\n",
    "    roundtripArray = np.fromfile(\"./tmpRoundtrip.arr\", 'f4')    \n",
    "    !rm \"./tmpRoundtrip.arr\"\n",
    "    !rm \"./tmpOrig.arr\"\n",
    "    return roundtripArray, compressedSize\n",
    "\n",
    "def zfpCompressFixedRate(inputArray, width, height, rate):\n",
    "    return zfpCompress(inputArray, width, height, \"-r {}\".format(rate))\n",
    "\n",
    "def zfpCompressFixedPrecision(inputArray, width, height, precision):\n",
    "    return zfpCompress(inputArray, width, height, \"-p {}\".format(precision))\n",
    "\n",
    "def zfpCompressFixedAccuracy(inputArray, width, height, tolerance):\n",
    "    return zfpCompress(inputArray, width, height, \"-a {}\".format(tolerance))\n",
    "\n",
    "def szCompress(inputArray, width, height, compressOpts):\n",
    "    np.nan_to_num(inputArray).tofile(\"{}/tmpOrig.arr\".format(TMP_DIR))\n",
    "    output = !$SZ_EXEC -c sz.config $compressOpts -f -z -i \"$TMP_DIR/tmpOrig.arr\" -2 $width $height\n",
    "    output = !$SZ_EXEC -c sz.config $compressOpts -f -x -s \"$TMP_DIR/tmpOrig.arr.sz\" -2 $width $height        \n",
    "    compressedSize = os.stat(\"{}/tmpOrig.arr.sz\".format(TMP_DIR)).st_size\n",
    "    roundtripArray = np.fromfile(\"{}/tmpOrig.arr.sz.out\".format(TMP_DIR), 'f4')    \n",
    "    !rm \"$TMP_DIR/tmpOrig.arr.sz\"\n",
    "    !rm \"$TMP_DIR/tmpOrig.arr.sz.out\"\n",
    "    !rm \"$TMP_DIR/tmpOrig.arr\"\n",
    "    return roundtripArray, compressedSize\n",
    "\n",
    "def szCompressPSNR(inputArray, width, height, PSNR):\n",
    "    return szCompress(inputArray, width, height, \"-M PSNR -S {}\".format(PSNR))\n",
    "\n",
    "def deltaErrors(array1, array2):\n",
    "    deltaArray = np.abs(array1 - array2)\n",
    "    deltaArray = (~np.isnan(array1))*deltaArray\n",
    "    return np.nansum(deltaArray), np.nanmax(deltaArray)\n",
    "\n",
    "def nanFixed(arr, factor):    \n",
    "    downSampled = np.zeros([int(arr.shape[0]/factor),int(arr.shape[1]/factor)])\n",
    "    for i in range(downSampled.shape[0]):\n",
    "        for j in range(downSampled.shape[1]):\n",
    "            downSampled[i,j] = np.nanmean(arr[i*factor:i*factor+factor, j*factor:j*factor+factor])\n",
    "    resampledMeans = np.repeat(np.repeat(downSampled,factor, axis=0), factor, axis=1)\n",
    "    fixedArr = np.where(np.isnan(arr), resampledMeans, arr)\n",
    "    return fixedArr\n",
    "\n",
    "def get_colors(inp, colormap, vmin=None, vmax=None):\n",
    "    norm = plt.Normalize(vmin, vmax)\n",
    "    return colormap(norm(inp))[:, :, :3]"
   ]
  },
  {
   "cell_type": "code",
   "execution_count": null,
   "metadata": {},
   "outputs": [],
   "source": [
    "# GALFACTS N4 field (Q) without NaNs\n",
    "originalFile = \"./Downloads/n4_Q_no_nans.arr\"\n",
    "originalArray = np.fromfile(originalFile, 'f4')\n",
    "sliceHeight = 1074\n",
    "sliceWidth = 5850\n",
    "fullSize = sliceHeight*sliceWidth*4\n",
    "fullSizeMpix = fullSize/4e6"
   ]
  },
  {
   "cell_type": "code",
   "execution_count": null,
   "metadata": {},
   "outputs": [],
   "source": [
    "# GALFACTS N4 field (Q) without NaNs (512x512 slice)\n",
    "originalFile = \"./Downloads/n4_Q_no_nans.arr\"\n",
    "originalArray = np.fromfile(originalFile, 'f4')\n",
    "originalArray = np.fromfile(originalFile, 'f4')\n",
    "originalArray = originalArray.reshape([-1, 5850])[768-256:768+256, 4600-256:4600+256].flatten()\n",
    "sliceHeight = 512\n",
    "sliceWidth = 512\n",
    "fullSize = sliceHeight*sliceWidth*4\n",
    "fullSizeMpix = fullSize/4e6\n",
    "scaleLow = -0.158637\n",
    "scaleHigh = 0.120516"
   ]
  },
  {
   "cell_type": "code",
   "execution_count": null,
   "metadata": {},
   "outputs": [],
   "source": [
    "# GALFACTS N4 field (I) without NaNs\n",
    "originalFile = \"./Downloads/n4_no_nans.arr\"\n",
    "originalArray = np.fromfile(originalFile, 'f4')\n",
    "sliceHeight = 1074\n",
    "sliceWidth = 5850\n",
    "fullSize = sliceHeight*sliceWidth*4\n",
    "fullSizeMpix = fullSize/4e6\n",
    "scaleLow = 3.36162\n",
    "scaleHigh = 8.11825"
   ]
  },
  {
   "cell_type": "code",
   "execution_count": null,
   "metadata": {},
   "outputs": [],
   "source": [
    "# GALFACTS N4 field (I) without NaNs (512x512 slice)\n",
    "originalFile = \"./Downloads/n4_no_nans.arr\"\n",
    "originalArray = np.fromfile(originalFile, 'f4')\n",
    "originalArray = originalArray.reshape([-1, 5850])[768-256:768+256, 4600-256:4600+256].flatten()\n",
    "sliceHeight = 512\n",
    "sliceWidth = 512\n",
    "fullSize = sliceHeight*sliceWidth*4\n",
    "fullSizeMpix = fullSize/4e6\n",
    "scaleLow = 3.36162\n",
    "scaleHigh = 8.11825"
   ]
  },
  {
   "cell_type": "code",
   "execution_count": null,
   "metadata": {},
   "outputs": [],
   "source": [
    "# full 67MB DEEP slice\n",
    "originalFile = \"./Downloads/full.arr\"\n",
    "originalArray = np.fromfile(originalFile, 'f4')\n",
    "sliceHeight = 4096\n",
    "sliceWidth = 4096\n",
    "fullSize = sliceHeight*sliceWidth*4\n",
    "fullSizeMpix = fullSize/4e6\n",
    "scaleLow = -0.000556335\n",
    "scaleHigh = 0.000620103"
   ]
  },
  {
   "cell_type": "code",
   "execution_count": null,
   "metadata": {},
   "outputs": [],
   "source": [
    "# centre 512x512 slice subest\n",
    "originalFile = \"./Downloads/full.arr\"\n",
    "originalArray = np.fromfile(originalFile, 'f4')\n",
    "originalArray = originalArray.reshape([-1, 4096])[2048-256:2048+256, 2048-256:2048+256].flatten()\n",
    "sliceHeight = 512\n",
    "sliceWidth = 512\n",
    "fullSize = sliceHeight*sliceWidth*4\n",
    "fullSizeMpix = fullSize/4e6\n",
    "scaleLow = -0.000556335\n",
    "scaleHigh = 0.000620103"
   ]
  },
  {
   "cell_type": "code",
   "execution_count": null,
   "metadata": {},
   "outputs": [],
   "source": [
    "# supermosaic 512x512 slice subest\n",
    "originalFile = \"./Downloads/supermosaic.arr\"\n",
    "originalArray = np.fromfile(originalFile, 'f4')\n",
    "originalArray = originalArray.reshape([-1, 4224])[900-256:900+256, 2000-256:2000+256].flatten()\n",
    "sliceHeight = 512\n",
    "sliceWidth = 512\n",
    "fullSize = sliceHeight*sliceWidth*4\n",
    "fullSizeMpix = fullSize/4e6\n",
    "scaleLow = -19.0277\n",
    "scaleHigh = 66.8458"
   ]
  },
  {
   "cell_type": "code",
   "execution_count": null,
   "metadata": {},
   "outputs": [],
   "source": [
    "# supermosaic subset without NaNs\n",
    "originalFile = \"./Downloads/supermosaic.arr\"\n",
    "originalArray = np.fromfile(originalFile, 'f4')\n",
    "originalArray = originalArray.reshape([-1, 4224])[100:-100, :].flatten()\n",
    "sliceHeight = 1624\n",
    "sliceWidth = 4224\n",
    "fullSize = sliceHeight*sliceWidth*4\n",
    "fullSizeMpix = fullSize/4e6\n",
    "scaleLow = -19.0277\n",
    "scaleHigh = 66.8458"
   ]
  },
  {
   "cell_type": "code",
   "execution_count": null,
   "metadata": {},
   "outputs": [],
   "source": [
    "originalArray.shape"
   ]
  },
  {
   "cell_type": "code",
   "execution_count": null,
   "metadata": {},
   "outputs": [],
   "source": [
    "sizesFixedRate = np.zeros(32)\n",
    "absErrSumsFixedRate = np.zeros(32)\n",
    "absErrMaxValsFixedRate = np.zeros(32)\n",
    "\n",
    "for i in range(32):\n",
    "    compressedArray, sizesFixedRate[i] = zfpCompressFixedRate(originalArray, sliceWidth, sliceHeight, i+1)\n",
    "    absErrSumsFixedRate[i], absErrMaxValsFixedRate[i] = deltaErrors(originalArray, compressedArray)\n",
    "    print (\"{}...\".format(i+1), end='')\n",
    "print()"
   ]
  },
  {
   "cell_type": "code",
   "execution_count": null,
   "metadata": {},
   "outputs": [],
   "source": [
    "sizesFixedPrecision = np.zeros(32)\n",
    "absErrSumsFixedPrecision = np.zeros(32)\n",
    "absErrMaxValsFixedPrecision = np.zeros(32)\n",
    "\n",
    "for i in range(32):\n",
    "    compressedArray, sizesFixedPrecision[i] = zfpCompressFixedPrecision(originalArray, sliceWidth, sliceHeight, i+1)\n",
    "    absErrSumsFixedPrecision[i], absErrMaxValsFixedPrecision[i] = deltaErrors(originalArray, compressedArray)\n",
    "    print (\"{}...\".format(i+1), end='')\n",
    "print()"
   ]
  },
  {
   "cell_type": "code",
   "execution_count": null,
   "metadata": {},
   "outputs": [],
   "source": [
    "accuracySettings = [10,9,8,7,6,5,4,3,2,1,0.9,0.8,0.7,0.6,0.5,0.4,0.3,0.2,0.1, 5e-2, 2e-2, 1e-2, 5e-3, 2e-3, 1e-3,\n",
    "                   5e-4, 2e-4, 1e-4, 5e-5, 2e-5, 1e-5, 5e-6, 2e-6, 1e-6, 5e-7, 2e-7, 1e-7]                   \n",
    "numSettings = len(accuracySettings)\n",
    "sizesFixedAccuracy = np.zeros(numSettings)\n",
    "absErrSumsFixedAccuracy = np.zeros(numSettings)\n",
    "absErrMaxValsFixedAccuracy = np.zeros(numSettings)\n",
    "\n",
    "for i in range(numSettings):\n",
    "    compressedArray, sizesFixedAccuracy[i] = zfpCompressFixedAccuracy(originalArray, sliceWidth, sliceHeight, accuracySettings[i])\n",
    "    absErrSumsFixedAccuracy[i], absErrMaxValsFixedAccuracy[i] = deltaErrors(originalArray, compressedArray)\n",
    "    print (\"{} ({}/{})...\".format(accuracySettings[i], i+1, numSettings), end='')\n",
    "print()"
   ]
  },
  {
   "cell_type": "code",
   "execution_count": null,
   "metadata": {},
   "outputs": [],
   "source": [
    "sizesPSNR = np.zeros(32)\n",
    "absErrSumsPSNR = np.zeros(32)\n",
    "absErrMaxValsPSNR = np.zeros(32)\n",
    "\n",
    "for i in range(32):\n",
    "    PSNR = 70+i\n",
    "    compressedArray, sizesPSNR[i] = szCompressPSNR(originalArray, sliceWidth, sliceHeight, PSNR)\n",
    "    absErrSumsPSNR[i], absErrMaxValsPSNR[i] = deltaErrors(originalArray, compressedArray)\n",
    "    print (\"{} ({}/{})...\".format(PSNR, (i+1), 32), end='')\n",
    "print()"
   ]
  },
  {
   "cell_type": "code",
   "execution_count": null,
   "metadata": {},
   "outputs": [],
   "source": [
    "plt.close()\n",
    "plt.scatter(sizesFixedRate*1e-6, absErrSumsFixedRate, label='ZFP (Fixed rate)')\n",
    "plt.scatter(sizesFixedPrecision*1e-6, absErrSumsFixedPrecision, label='ZFP (Fixed precision)')\n",
    "plt.scatter(sizesFixedAccuracy*1e-6, absErrSumsFixedAccuracy, label='ZFP (Fixed accuracy)')\n",
    "plt.scatter(sizesPSNR*1e-6, absErrSumsPSNR, label='SZ (PSNR bounded)')\n",
    "plt.legend()\n",
    "plt.xlabel('Size (MB)')\n",
    "plt.ylabel('Absolute error (sum)')\n"
   ]
  },
  {
   "cell_type": "code",
   "execution_count": null,
   "metadata": {},
   "outputs": [],
   "source": [
    "plt.close()\n",
    "plt.scatter(sizesFixedRate*1e-6, absErrMaxValsFixedRate, label='ZFP (Fixed rate)')\n",
    "plt.scatter(sizesFixedPrecision*1e-6, absErrMaxValsFixedPrecision, label='ZFP (Fixed precision)')\n",
    "plt.scatter(sizesFixedAccuracy*1e-6, absErrMaxValsFixedAccuracy, label='ZFP (Fixed accuracy)')\n",
    "plt.scatter(sizesPSNR*1e-6, absErrMaxValsPSNR, label='SZ (PSNR bounded)')\n",
    "plt.legend()\n",
    "plt.xlabel('Size (MB)')\n",
    "plt.ylabel('Absolute error (max)')"
   ]
  },
  {
   "cell_type": "code",
   "execution_count": null,
   "metadata": {},
   "outputs": [],
   "source": [
    "#zfpCompressFixedPrecision(originalArray, sliceWidth, sliceHeight, 12)\n",
    "zfpCompressFixedPrecision(np.nan_to_num(originalArray), sliceWidth, sliceHeight, 10)"
   ]
  },
  {
   "cell_type": "code",
   "execution_count": null,
   "metadata": {},
   "outputs": [],
   "source": [
    "reshapedArray = originalArray.reshape([-1, sliceWidth])\n",
    "colormap = plt.cm.viridis\n",
    "colormappedArray = get_colors(reshapedArray, colormap, scaleLow, scaleHigh)\n",
    "plt.imsave('{}/tmpOrig.png'.format(TMP_DIR), colormappedArray)\n",
    "plt.close()\n",
    "plt.imshow(colormappedArray)\n",
    "originalImage = Image.open('{}/tmpOrig.png'.format(TMP_DIR))\n",
    "originalImage = originalImage.convert(\"RGB\")\n",
    "pngSize = os.stat(\"{}/tmpOrig.png\".format(TMP_DIR)).st_size\n",
    "rawSize = sliceWidth*sliceHeight*4\n",
    "\n",
    "sizesJPG = []\n",
    "absErrSumsJPG = []\n",
    "absErrMaxValsJPG = []\n",
    "\n",
    "for i in range(60, 101):\n",
    "    originalImage.save('{}/tmpCompressed.jpg'.format(TMP_DIR), format='JPEG', quality=i)\n",
    "    sizesJPG.append(os.stat(\"{}/tmpCompressed.jpg\".format(TMP_DIR)).st_size)\n",
    "    compressedImageArray = plt.imread('{}/tmpCompressed.jpg'.format(TMP_DIR))\n",
    "    deltaImage = np.abs(compressedImageArray/255.0-colormappedArray)\n",
    "    absErrSumsJPG.append(np.nansum(deltaImage))\n",
    "    absErrMaxValsJPG.append(np.nanmax(deltaImage))\n",
    "    print (\"{}...\".format(i), end='')\n",
    "print()\n",
    "\n",
    "sizesJPG = np.array(sizesJPG)\n",
    "absErrSumsJPG = np.array(absErrSumsJPG)\n",
    "absErrMaxValsJPG = np.array(absErrMaxValsJPG)"
   ]
  },
  {
   "cell_type": "code",
   "execution_count": null,
   "metadata": {},
   "outputs": [],
   "source": [
    "accuracySettings = [20, 19, 18, 17, 16, 15, 14, 13, 12, 11, 10,9,8,7,6,5,4,3,2,1,0.9,0.8,0.7,0.6,0.5,0.4,0.3,0.2,0.1, 5e-2, 2e-2, 1e-2, 5e-3, 2e-3, 1e-3,\n",
    "                   5e-4, 2e-4, 1e-4, 5e-5, 2e-5, 1e-5, 5e-6, 2e-6, 1e-6, 5e-7, 2e-7, 1e-7]                   \n",
    "numSettings = len(accuracySettings)\n",
    "sizesFixedAccuracy = np.zeros(numSettings)\n",
    "absErrSumsImageFixedAccuracy = np.zeros(numSettings)\n",
    "absErrMaxValsImageFixedAccuracy = np.zeros(numSettings)\n",
    "\n",
    "reshapedArray = originalArray.reshape([-1, sliceWidth])\n",
    "colormappedArray = get_colors(reshapedArray, colormap, scaleLow, scaleHigh)\n",
    "\n",
    "for i in range(numSettings):\n",
    "    compressedArray, sizesFixedAccuracy[i] = zfpCompressFixedAccuracy(originalArray, sliceWidth, sliceHeight, accuracySettings[i])\n",
    "    colormappedCompressedArray = get_colors(compressedArray.reshape([-1, sliceWidth]), colormap, scaleLow, scaleHigh)\n",
    "    deltaImage = np.abs(colormappedCompressedArray-colormappedArray)\n",
    "    absErrSumsImageFixedAccuracy[i] = np.nansum(deltaImage)\n",
    "    absErrMaxValsImageFixedAccuracy[i] = np.nanmax(deltaImage)\n",
    "    \n",
    "    print (\"{} ({}/{})...\".format(accuracySettings[i], i+1, numSettings), end='')\n",
    "print()"
   ]
  },
  {
   "cell_type": "code",
   "execution_count": null,
   "metadata": {},
   "outputs": [],
   "source": [
    "sizesPSNR = np.zeros(40)\n",
    "absErrSumsImagePSNR = np.zeros(len(sizesPSNR))\n",
    "absErrMaxValsImagePSNR = np.zeros(len(sizesPSNR))\n",
    "\n",
    "reshapedArray = originalArray.reshape([-1, sliceWidth])\n",
    "colormappedArray = get_colors(reshapedArray, colormap, scaleLow, scaleHigh)\n",
    "\n",
    "for i in range(len(sizesPSNR)):\n",
    "    PSNR = 60+i\n",
    "    compressedArray, sizesPSNR[i] = szCompressPSNR(originalArray, sliceWidth, sliceHeight, PSNR)\n",
    "    colormappedCompressedArray = get_colors(compressedArray.reshape([-1, sliceWidth]), colormap, scaleLow, scaleHigh)\n",
    "    deltaImage = np.abs(colormappedCompressedArray-colormappedArray)\n",
    "    absErrSumsImagePSNR[i] = np.nansum(deltaImage)\n",
    "    absErrMaxValsImagePSNR[i] = np.nanmax(deltaImage)\n",
    "    print (\"{} ({}/{})...\".format(PSNR, (i+1), len(sizesPSNR)), end='')\n",
    "print()"
   ]
  },
  {
   "cell_type": "code",
   "execution_count": null,
   "metadata": {},
   "outputs": [],
   "source": [
    "plt.close()\n",
    "plt.scatter(sizesJPG*1e-6, absErrSumsJPG/(sliceWidth*sliceHeight/100), marker='.', label='JPEG ({})'.format(colormap.name))\n",
    "plt.scatter(sizesFixedAccuracy*1e-6, absErrSumsImageFixedAccuracy/(sliceWidth*sliceHeight/100), marker='.', label='ZFP ({})'.format(colormap.name))\n",
    "plt.scatter(sizesPSNR*1e-6, absErrSumsImagePSNR/(sliceWidth*sliceHeight/100), marker='.', label='SZ ({})'.format(colormap.name))\n",
    "plt.scatter(pngSize*1e-6, 0, marker='x', label='PNG ({})'.format(colormap.name))\n",
    "plt.legend()\n",
    "plt.xlabel('Size (MB)')\n",
    "plt.ylabel('Absolute error (mean %)')\n",
    "print(\"JPEG 95: {:0.3f} MB, {:0.3f}% mean error\".format(sizesJPG[-6]*1e-6, absErrSumsJPG[-6]/(sliceWidth*sliceHeight/100)))\n",
    "print(\"JPEG 90: {:0.3f} MB, {:0.3f}% mean error\".format(sizesJPG[-11]*1e-6, absErrSumsJPG[-11]/(sliceWidth*sliceHeight/100)))\n",
    "print(\"JPEG 60: {:0.3f} MB, {:0.3f}% mean error\".format(sizesJPG[0]*1e-6, absErrSumsJPG[0]/(sliceWidth*sliceHeight/100)))"
   ]
  },
  {
   "cell_type": "code",
   "execution_count": null,
   "metadata": {},
   "outputs": [],
   "source": [
    "plt.close()\n",
    "plt.scatter(sizesJPG*1e-6, absErrMaxValsJPG*100, marker='.', label='JPEG ({})'.format(colormap.name))\n",
    "plt.scatter(sizesFixedAccuracy*1e-6, absErrMaxValsImageFixedAccuracy*100, marker='.', label='ZFP ({})'.format(colormap.name))\n",
    "plt.scatter(sizesPSNR*1e-6, absErrMaxValsImagePSNR*100, marker='.', label='SZ ({})'.format(colormap.name))\n",
    "plt.scatter(pngSize*1e-6, 0, marker='x', label='PNG ({})'.format(colormap.name))\n",
    "\n",
    "plt.legend()\n",
    "plt.xlabel('Size (MB)')\n",
    "plt.ylabel('Absolute error (max %)')\n",
    "print(\"JPEG 95: {:0.3f} MB, {:0.3f}% max error\".format(sizesJPG[-6]*1e-6, absErrMaxValsJPG[-6]*100))\n",
    "print(\"JPEG 90: {:0.3f} MB, {:0.3f}% max error\".format(sizesJPG[-11]*1e-6, absErrMaxValsJPG[-11]*100))\n",
    "print(\"JPEG 60: {:0.3f} MB, {:0.3f}% max error\".format(sizesJPG[0]*1e-6, absErrMaxValsJPG[0]*100))"
   ]
  },
  {
   "cell_type": "code",
   "execution_count": null,
   "metadata": {},
   "outputs": [],
   "source": []
  }
 ],
 "metadata": {
  "kernelspec": {
   "display_name": "Python 3",
   "language": "python",
   "name": "python3"
  },
  "language_info": {
   "codemirror_mode": {
    "name": "ipython",
    "version": 3
   },
   "file_extension": ".py",
   "mimetype": "text/x-python",
   "name": "python",
   "nbconvert_exporter": "python",
   "pygments_lexer": "ipython3",
   "version": "3.6.3"
  }
 },
 "nbformat": 4,
 "nbformat_minor": 2
}
