{
 "cells": [
  {
   "cell_type": "code",
   "execution_count": null,
   "metadata": {},
   "outputs": [],
   "source": [
    "import numpy as np"
   ]
  },
  {
   "cell_type": "code",
   "execution_count": null,
   "metadata": {},
   "outputs": [],
   "source": [
    "rawArray = np.fromfile(\"Data0.bin\", 'f4')\n",
    "nanArray = np.isnan(rawArray)"
   ]
  },
  {
   "cell_type": "code",
   "execution_count": null,
   "metadata": {},
   "outputs": [],
   "source": [
    "encodedArray = np.zeros(len(rawArray), dtype='i4')\n",
    "encodedArrayIndex = 0\n",
    "prevIndex = 0\n",
    "prev = False\n",
    "\n",
    "for i in range(len(rawArray)):\n",
    "    current = nanArray[i]\n",
    "    if current != prev:\n",
    "        L = i-prevIndex\n",
    "        #print('Change at I={}; L={}'.format(i, L))\n",
    "        prev = current\n",
    "        prevIndex = i\n",
    "        encodedArray[encodedArrayIndex] = L\n",
    "        encodedArrayIndex += 1\n",
    "L = len(rawArray)-prevIndex\n",
    "#print('Change at I={}; L={}'.format(i, L))\n",
    "encodedArray[encodedArrayIndex] = L\n",
    "compressedArray = encodedArray[0:encodedArrayIndex+1]"
   ]
  },
  {
   "cell_type": "code",
   "execution_count": null,
   "metadata": {},
   "outputs": [],
   "source": [
    "compressedArray[0:10]"
   ]
  },
  {
   "cell_type": "code",
   "execution_count": null,
   "metadata": {},
   "outputs": [],
   "source": [
    "np.sum(compressedArray)"
   ]
  },
  {
   "cell_type": "code",
   "execution_count": null,
   "metadata": {},
   "outputs": [],
   "source": [
    "len(rawArray)"
   ]
  },
  {
   "cell_type": "code",
   "execution_count": null,
   "metadata": {},
   "outputs": [],
   "source": [
    "nanArray.tofile('Data0.nans.bin')"
   ]
  },
  {
   "cell_type": "code",
   "execution_count": null,
   "metadata": {},
   "outputs": [],
   "source": [
    "compressedArray.tofile('Data0.nansEnc.bin')"
   ]
  },
  {
   "cell_type": "code",
   "execution_count": null,
   "metadata": {},
   "outputs": [],
   "source": [
    "rawArray[-20:]"
   ]
  },
  {
   "cell_type": "code",
   "execution_count": null,
   "metadata": {},
   "outputs": [],
   "source": [
    "decodedArray = np.zeros(len(rawArray), dtype='?')"
   ]
  },
  {
   "cell_type": "code",
   "execution_count": null,
   "metadata": {},
   "outputs": [],
   "source": [
    "decodedIndex = 0\n",
    "fillVal = False\n",
    "for i in range(len(compressedArray)):\n",
    "    L=compressedArray[i]\n",
    "    for j in range(L):\n",
    "        decodedArray[j+decodedIndex] = fillVal\n",
    "    fillVal = not fillVal\n",
    "    decodedIndex += L"
   ]
  },
  {
   "cell_type": "code",
   "execution_count": null,
   "metadata": {},
   "outputs": [],
   "source": [
    "decodedArray"
   ]
  },
  {
   "cell_type": "code",
   "execution_count": null,
   "metadata": {},
   "outputs": [],
   "source": [
    "nanArray"
   ]
  },
  {
   "cell_type": "code",
   "execution_count": null,
   "metadata": {},
   "outputs": [],
   "source": [
    "for i in range(len(decodedArray)):\n",
    "    if (nanArray[i] != decodedArray[i]):\n",
    "        print('Error at i={}'.format(i))"
   ]
  },
  {
   "cell_type": "code",
   "execution_count": null,
   "metadata": {},
   "outputs": [],
   "source": []
  }
 ],
 "metadata": {
  "kernelspec": {
   "display_name": "Python 3",
   "language": "python",
   "name": "python3"
  },
  "language_info": {
   "codemirror_mode": {
    "name": "ipython",
    "version": 3
   },
   "file_extension": ".py",
   "mimetype": "text/x-python",
   "name": "python",
   "nbconvert_exporter": "python",
   "pygments_lexer": "ipython3",
   "version": "3.6.3"
  }
 },
 "nbformat": 4,
 "nbformat_minor": 2
}
