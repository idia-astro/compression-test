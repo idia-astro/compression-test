{
 "cells": [
  {
   "cell_type": "code",
   "execution_count": null,
   "metadata": {},
   "outputs": [],
   "source": [
    "import numpy as np\n",
    "import matplotlib.pyplot as plt\n",
    "%matplotlib notebook  "
   ]
  },
  {
   "cell_type": "code",
   "execution_count": null,
   "metadata": {},
   "outputs": [],
   "source": [
    "originalArray = np.fromfile(\"./ram6G/full.arr\", 'f4')\n",
    "fullSize = 4096*4096*4\n",
    "fullSizeMpix = fullSize/4e6"
   ]
  },
  {
   "cell_type": "code",
   "execution_count": null,
   "metadata": {},
   "outputs": [],
   "source": [
    "zfpRoundtrip = np.fromfile(\"./ram6G/zfp_roundtrip_r5.arr\", 'f4')\n",
    "cuZfpRoundtrip = np.fromfile(\"./ram6G/cu_zfp_roundtrip_r5.arr\", 'f4')"
   ]
  },
  {
   "cell_type": "code",
   "execution_count": null,
   "metadata": {},
   "outputs": [],
   "source": [
    "deltaZfp = np.abs(zfpRoundtrip - originalArray)\n",
    "relDeltaZfp = np.abs(np.divide(zfpRoundtrip - originalArray, originalArray))\n",
    "absErrSum = np.sum(deltaZfp)\n",
    "absErrMax = np.max(deltaZfp)\n",
    "print('ZFP Abs: mean: {}, max: {}, sum: {}'.format(np.mean(deltaZfp), absErrMax, absErrSum))"
   ]
  },
  {
   "cell_type": "code",
   "execution_count": null,
   "metadata": {},
   "outputs": [],
   "source": [
    "deltaCuZfp = np.abs(cuZfpRoundtrip - originalArray)\n",
    "relDeltaZfp = np.abs(np.divide(cuZfpRoundtrip - originalArray, originalArray))\n",
    "absErrSum = np.sum(deltaCuZfp)\n",
    "absErrMax = np.max(deltaCuZfp)\n",
    "print('CuZFP Abs: mean: {}, max: {}, sum: {}'.format(np.mean(deltaCuZfp), absErrMax, absErrSum))"
   ]
  },
  {
   "cell_type": "code",
   "execution_count": null,
   "metadata": {},
   "outputs": [],
   "source": [
    "sliceLength = 512\n",
    "sliceRow = 512\n",
    "sliceOrig = originalArray[sliceRow*4096:sliceRow*4096+sliceLength]\n",
    "sliceCuZfp = cuZfpRoundtrip[sliceRow*4096:sliceRow*4096+sliceLength]\n",
    "plt.close()\n",
    "plt.plot(sliceOrig, label='Uncompressed')\n",
    "plt.plot(sliceCuZfp, label='CUDA ZFP (r=5)')\n",
    "plt.plot(sliceOrig-sliceCuZfp, label='delta')\n",
    "plt.xlabel('Pixel coordinate')\n",
    "plt.ylabel('Value')\n",
    "plt.title('X-Profile comparison')\n",
    "plt.legend()\n"
   ]
  },
  {
   "cell_type": "code",
   "execution_count": null,
   "metadata": {},
   "outputs": [],
   "source": []
  }
 ],
 "metadata": {
  "kernelspec": {
   "display_name": "Python 3",
   "language": "python",
   "name": "python3"
  },
  "language_info": {
   "codemirror_mode": {
    "name": "ipython",
    "version": 3
   },
   "file_extension": ".py",
   "mimetype": "text/x-python",
   "name": "python",
   "nbconvert_exporter": "python",
   "pygments_lexer": "ipython3",
   "version": "3.6.3"
  }
 },
 "nbformat": 4,
 "nbformat_minor": 2
}
